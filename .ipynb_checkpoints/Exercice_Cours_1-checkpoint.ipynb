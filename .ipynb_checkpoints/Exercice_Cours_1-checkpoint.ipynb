{
 "cells": [
  {
   "cell_type": "code",
   "execution_count": 14,
   "metadata": {},
   "outputs": [
    {
     "data": {
      "application/javascript": [
       "// Exercices du cours 1\n",
       "\n",
       "/* var monNombre = 0;\n",
       "if (monNombre > 10) {\n",
       "    alert(\"votre nombre est plus grand que 10\")\n",
       "}\n",
       "else if (monNombre === 10) {\n",
       "    alert(\"Votre nombre est égal à 10\")\n",
       "}\n",
       "else {\n",
       "    alert(\"Votre nombre est plus petit que 10\")\n",
       "}\n",
       "*/\n",
       "\n",
       "// Exercice 2\n",
       "\n",
       "/* var texte = {\n",
       "    \"meta\":\"line\",\n",
       "    \"author\":\"aeschylus\",\n",
       "    \"credit\":\"OpenGreekAndLatin\",\n",
       "    \"urn\":\"urn:cts:greekLit:tlg0085.tlg007.opp-grc3-simple\",\n",
       "    \"text\": [\n",
       "        \"Πρῶτον μὲν εὐχῇ τῇδε πρεσβεύω θεῶν\",\n",
       "        \"τὴν πρωτόμαντιν Γαῖαν: ἐκ δὲ τῆς Θέμιν,\",\n",
       "        \"ἣ δὴ τὸ μητρὸς δευτέρα τόδ ̓ ἕζετο\",\n",
       "        \"μαντεῖον, ὡς λόγος τις: ἐν δὲ τῷ τρίτῳ\",\n",
       "    ]\n",
       "};\n",
       "//texte[\"author\"] peut aussi s écrire author.texte\n",
       "\n",
       "/* for (var line = 0 --> c'est l'initialisation ; \n",
       "        line < texte[\"text\"].length  --> ça c'est une condition qui fixe la limite;\n",
       "        ++line  --> ça c'est l'incrémentation,  valant line += 1)  */\n",
       "\n",
       "var output = \"<article><header>\" + texte[\"author\"] + \"</header>\";\n",
       "for (var line = 0; line < texte[\"text\"].length; ++line) {\n",
       "    output = output + \"<li>\" + texte[\"text\"][line]+\"</li>\"\n",
       "};\n",
       "output = output + \"</ul><footer>\" + texte[\"urn\"] + \"</footer></article>\"\n",
       "alert(output);\n",
       "*/\n"
      ],
      "text/plain": [
       "<IPython.core.display.Javascript object>"
      ]
     },
     "metadata": {},
     "output_type": "display_data"
    }
   ],
   "source": [
    "%%js\n",
    "// Exercices du cours 1 & 2\n",
    "\n",
    "/* var monNombre = 0;\n",
    "if (monNombre > 10) {\n",
    "    alert(\"votre nombre est plus grand que 10\")\n",
    "}\n",
    "else if (monNombre === 10) {\n",
    "    alert(\"Votre nombre est égal à 10\")\n",
    "}\n",
    "else {\n",
    "    alert(\"Votre nombre est plus petit que 10\")\n",
    "}\n",
    "*/\n",
    "\n",
    "// Exercice 3\n",
    "\n",
    "/* var texte = {\n",
    "    \"meta\":\"line\",\n",
    "    \"author\":\"aeschylus\",\n",
    "    \"credit\":\"OpenGreekAndLatin\",\n",
    "    \"urn\":\"urn:cts:greekLit:tlg0085.tlg007.opp-grc3-simple\",\n",
    "    \"text\": [\n",
    "        \"Πρῶτον μὲν εὐχῇ τῇδε πρεσβεύω θεῶν\",\n",
    "        \"τὴν πρωτόμαντιν Γαῖαν: ἐκ δὲ τῆς Θέμιν,\",\n",
    "        \"ἣ δὴ τὸ μητρὸς δευτέρα τόδ ̓ ἕζετο\",\n",
    "        \"μαντεῖον, ὡς λόγος τις: ἐν δὲ τῷ τρίτῳ\",\n",
    "    ]\n",
    "};\n",
    "//texte[\"author\"] peut aussi s écrire author.texte\n",
    "\n",
    "/* for (var line = 0 --> c'est l'initialisation ; \n",
    "        line < texte[\"text\"].length  --> ça c'est une condition qui fixe la limite;\n",
    "        ++line  --> ça c'est l'incrémentation,  valant line += 1)  */\n",
    "\n",
    "var output = \"<article><header>\" + texte[\"author\"] + \"</header>\";\n",
    "for (var line = 0; line < texte[\"text\"].length; ++line) {\n",
    "    output = output + \"<li>\" + texte[\"text\"][line]+\"</li>\"\n",
    "};\n",
    "output = output + \"</ul><footer>\" + texte[\"urn\"] + \"</footer></article>\"\n",
    "alert(output);\n",
    "*/"
   ]
  }
 ],
 "metadata": {
  "kernelspec": {
   "display_name": "Python 3",
   "language": "python",
   "name": "python3"
  },
  "language_info": {
   "codemirror_mode": {
    "name": "ipython",
    "version": 3
   },
   "file_extension": ".py",
   "mimetype": "text/x-python",
   "name": "python",
   "nbconvert_exporter": "python",
   "pygments_lexer": "ipython3",
   "version": "3.7.3"
  }
 },
 "nbformat": 4,
 "nbformat_minor": 2
}
