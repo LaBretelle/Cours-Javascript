{
 "cells": [
  {
   "cell_type": "code",
   "execution_count": 5,
   "metadata": {},
   "outputs": [
    {
     "data": {
      "application/javascript": [
       "\n",
       "var ma_fonction = function(x, mon_callback) {\n",
       "return mon_callback(x);\n",
       "}\n",
       "/* On dit au début que la fonction \"ma_fonction\" a pour paramètre x et mon_callback, et qu'elle renvoie\n",
       "la fonction mon_callback avec pour paramètre x.\n",
       "*/\n",
       "var q1 = ma_fonction(\n",
       "7, function(z) {return \"Blanche Neige et les \" + z + \" Nains\"}\n",
       ") === \"Blanche Neige et les 7 Nains\";\n",
       "var q2 = ma_fonction(\n",
       "9, function(z) {return z * 2}\n",
       ") === 18;\n",
       "console.log(q1);\n",
       "console.log(q2);\n",
       "alert(q1);\n",
       "alert(q2)\n"
      ],
      "text/plain": [
       "<IPython.core.display.Javascript object>"
      ]
     },
     "metadata": {},
     "output_type": "display_data"
    }
   ],
   "source": [
    "%%js\n",
    "\n",
    "var ma_fonction = function(x, mon_callback) {\n",
    "return mon_callback(x);\n",
    "}\n",
    "/* On dit au début que la fonction \"ma_fonction\" a pour paramètre x et mon_callback, et qu'elle renvoie\n",
    "la fonction mon_callback avec pour paramètre x.\n",
    "Ensuite, dans q1, le paramètre appelé en premier est 7 (ou 9 ensuite), et la fonction est ensuite définie entre \n",
    "accolades, et la valeur de z est 7 (ou 9 ensuite).\n",
    "*/\n",
    "var q1 = ma_fonction(\n",
    "7, function(z) {return \"Blanche Neige et les \" + z + \" Nains\"}\n",
    ") === \"Blanche Neige et les 7 Nains\";\n",
    "var q2 = ma_fonction(\n",
    "9, function(z) {return z * 2}\n",
    ") === 18;\n",
    "console.log(q1);\n",
    "console.log(q2);\n",
    "alert(q1);\n",
    "alert(q2)"
   ]
  }
 ],
 "metadata": {
  "kernelspec": {
   "display_name": "Python 3",
   "language": "python",
   "name": "python3"
  },
  "language_info": {
   "codemirror_mode": {
    "name": "ipython",
    "version": 3
   },
   "file_extension": ".py",
   "mimetype": "text/x-python",
   "name": "python",
   "nbconvert_exporter": "python",
   "pygments_lexer": "ipython3",
   "version": "3.7.3"
  }
 },
 "nbformat": 4,
 "nbformat_minor": 2
}
